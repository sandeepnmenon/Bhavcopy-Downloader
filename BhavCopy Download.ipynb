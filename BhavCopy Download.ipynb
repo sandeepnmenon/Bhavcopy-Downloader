{
 "cells": [
  {
   "cell_type": "code",
   "execution_count": 40,
   "metadata": {},
   "outputs": [],
   "source": [
    "import requests\n",
    "import os"
   ]
  },
  {
   "cell_type": "markdown",
   "metadata": {},
   "source": [
    "## Give start year and end year"
   ]
  },
  {
   "cell_type": "code",
   "execution_count": 41,
   "metadata": {},
   "outputs": [],
   "source": [
    "startYear = 2018\n",
    "endYear = 2020"
   ]
  },
  {
   "cell_type": "markdown",
   "metadata": {},
   "source": [
    "## Choose months (leave as is if you need all months)"
   ]
  },
  {
   "cell_type": "code",
   "execution_count": 42,
   "metadata": {},
   "outputs": [],
   "source": [
    "months = ['JAN','FEB','MAR','APR','MAY','JUN','JUL','AUG','SEP','OCT','NOV','DEC']"
   ]
  },
  {
   "cell_type": "code",
   "execution_count": 43,
   "metadata": {},
   "outputs": [],
   "source": [
    "for year in range(startYear,endYear+1):\n",
    "    for month in months:\n",
    "        for day in range(1,31):\n",
    "            folder = f\"./Bhavcopy/{year}/\"\n",
    "            if not os.path.exists(os.path.dirname(folder)):\n",
    "                os.makedirs(os.path.dirname(folder))\n",
    "            \n",
    "            dayStr = f\"0{day}\" if day <10 else day\n",
    "            url = f\"https://www1.nseindia.com/content/historical/EQUITIES/{year}/{month}/cm{dayStr}{month}{year}bhav.csv.zip\"\n",
    "            try:\n",
    "                r = requests.get(url)\n",
    "                if(r.status_code == 200):\n",
    "                    open(f'{folder}/{month}{dayStr}.zip', 'wb+').write(r.content)\n",
    "\n",
    "            except Exception:\n",
    "                print(Exception.Message)"
   ]
  },
  {
   "cell_type": "code",
   "execution_count": null,
   "metadata": {},
   "outputs": [],
   "source": []
  }
 ],
 "metadata": {
  "kernelspec": {
   "display_name": "Python 3",
   "language": "python",
   "name": "python3"
  },
  "language_info": {
   "codemirror_mode": {
    "name": "ipython",
    "version": 3
   },
   "file_extension": ".py",
   "mimetype": "text/x-python",
   "name": "python",
   "nbconvert_exporter": "python",
   "pygments_lexer": "ipython3",
   "version": "3.6.5"
  }
 },
 "nbformat": 4,
 "nbformat_minor": 4
}
